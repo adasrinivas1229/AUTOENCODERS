{
  "nbformat": 4,
  "nbformat_minor": 0,
  "metadata": {
    "colab": {
      "name": "Convauto.ipynb",
      "provenance": []
    },
    "kernelspec": {
      "name": "python3",
      "display_name": "Python 3"
    }
  },
  "cells": [
    {
      "cell_type": "markdown",
      "metadata": {
        "id": "_8Hn6IQr0Xg2",
        "colab_type": "text"
      },
      "source": [
        "Implementation\n",
        "The convolutional autoencoder is implemented in Python3.8 using the TensorFlow 2.2 library.\n"
      ]
    },
    {
      "cell_type": "markdown",
      "metadata": {
        "id": "l0HI_MhoDQlM",
        "colab_type": "text"
      },
      "source": [
        "First we are going to import all the library and functions that is required in building convolutional autoencoder."
      ]
    },
    {
      "cell_type": "code",
      "metadata": {
        "id": "cqWHlfQx0rcX",
        "colab_type": "code",
        "colab": {}
      },
      "source": [
        "import os\n",
        "os.environ[\"TF_CPP_MIN_LOG_LEVEL\"] = \"2\"\n",
        "\n",
        "import numpy as np\n",
        "import matplotlib.pyplot as plt\n",
        "import tensorflow as tf\n",
        "from tensorflow.keras.layers import Input, Dense, Conv2D, Activation, MaxPool2D\n",
        "from tensorflow.keras.layers import BatchNormalization, Flatten, Reshape, Conv2DTranspose, LeakyReLU\n",
        "from tensorflow.keras.models import Model\n",
        "from tensorflow.keras.optimizers import Adam, SGD"
      ],
      "execution_count": 0,
      "outputs": []
    },
    {
      "cell_type": "markdown",
      "metadata": {
        "id": "gaWdhAFvDqMi",
        "colab_type": "text"
      },
      "source": [
        "Let us seed the environment and load the Fashion MNIST dataset."
      ]
    },
    {
      "cell_type": "code",
      "metadata": {
        "id": "a-4Bp88E1dv8",
        "colab_type": "code",
        "colab": {
          "base_uri": "https://localhost:8080/",
          "height": 153
        },
        "outputId": "710fa50e-a286-4798-b40f-4906e1813017"
      },
      "source": [
        "## Seeding\n",
        "np.random.seed(42)\n",
        "tf.random.set_seed(42)\n",
        "## Loading the dataset and then normalizing the images.\n",
        "dataset = tf.keras.datasets.fashion_mnist\n",
        "(x_train, y_train),(x_test, y_test) = dataset.load_data()\n",
        "x_train, x_test = x_train / 255.0, x_test / 255.0"
      ],
      "execution_count": 2,
      "outputs": [
        {
          "output_type": "stream",
          "text": [
            "Downloading data from https://storage.googleapis.com/tensorflow/tf-keras-datasets/train-labels-idx1-ubyte.gz\n",
            "32768/29515 [=================================] - 0s 0us/step\n",
            "Downloading data from https://storage.googleapis.com/tensorflow/tf-keras-datasets/train-images-idx3-ubyte.gz\n",
            "26427392/26421880 [==============================] - 0s 0us/step\n",
            "Downloading data from https://storage.googleapis.com/tensorflow/tf-keras-datasets/t10k-labels-idx1-ubyte.gz\n",
            "8192/5148 [===============================================] - 0s 0us/step\n",
            "Downloading data from https://storage.googleapis.com/tensorflow/tf-keras-datasets/t10k-images-idx3-ubyte.gz\n",
            "4423680/4422102 [==============================] - 0s 0us/step\n"
          ],
          "name": "stdout"
        }
      ]
    },
    {
      "cell_type": "markdown",
      "metadata": {
        "id": "zq3h4I6TD-2z",
        "colab_type": "text"
      },
      "source": [
        "Now we specify the hyperparameters."
      ]
    },
    {
      "cell_type": "code",
      "metadata": {
        "id": "GUCTWO3R12mG",
        "colab_type": "code",
        "colab": {}
      },
      "source": [
        "## Hyperparameters\n",
        "H = 28\n",
        "W = 28\n",
        "C = 1\n",
        "## Latent space\n",
        "latent_dim = 128"
      ],
      "execution_count": 0,
      "outputs": []
    },
    {
      "cell_type": "markdown",
      "metadata": {
        "id": "I-Nb5hY-EC0V",
        "colab_type": "text"
      },
      "source": [
        "Now we will build the model for the convolutional autoencoder. the inputs variable defined the input for the model which takes the input image while training."
      ]
    },
    {
      "cell_type": "code",
      "metadata": {
        "id": "pOwqHmdo15mf",
        "colab_type": "code",
        "colab": {}
      },
      "source": [
        "inputs = Input(shape=(H, W, C), name=\"inputs\")\n",
        "x = inputs"
      ],
      "execution_count": 0,
      "outputs": []
    },
    {
      "cell_type": "markdown",
      "metadata": {
        "id": "Sbr6GYfeEYN9",
        "colab_type": "text"
      },
      "source": [
        "The layers specified below forms the encoder for the convolutional autoencoder. The Conv2D layer learn the required features from the incoming image or feature maps."
      ]
    },
    {
      "cell_type": "code",
      "metadata": {
        "id": "Geq_1QF42CTZ",
        "colab_type": "code",
        "colab": {}
      },
      "source": [
        "x = Conv2D(32, (3, 3), padding=\"same\")(x)\n",
        "x = BatchNormalization()(x)\n",
        "x = LeakyReLU(alpha=0.2)(x)\n",
        "x = MaxPool2D((2, 2))(x)\n",
        "x = Conv2D(64, (3, 3), padding=\"same\")(x)\n",
        "x = BatchNormalization()(x)\n",
        "x = LeakyReLU(alpha=0.2)(x)\n",
        "x = MaxPool2D((2, 2))(x)\n",
        "x = Flatten()(x)\n",
        "units = x.shape[1]\n",
        "x = Dense(latent_dim, name=\"latent\")(x)\n",
        "x = Dense(units)(x)\n",
        "x = LeakyReLU(alpha=0.2)(x)\n",
        "x = Reshape((7, 7, 64))(x)"
      ],
      "execution_count": 0,
      "outputs": []
    },
    {
      "cell_type": "markdown",
      "metadata": {
        "id": "7uBedaHmEdqu",
        "colab_type": "text"
      },
      "source": [
        "The layer specified below forms the decoder for the convolutional autoencder. The decoder is a mirror image of the encoder, except instead of using Conv2D layer, the Conv2DTranspose (Transpose Convolution) is used. The transpose convolution is used learns to increase the dimensions of the incoming feature maps.\n",
        "At the last a sigmoid activation is used because we want the output value between 0 and 1."
      ]
    },
    {
      "cell_type": "code",
      "metadata": {
        "id": "zedKTxkK2jh9",
        "colab_type": "code",
        "colab": {}
      },
      "source": [
        "x = Conv2DTranspose(64, (3, 3), strides=2, padding=\"same\")(x)\n",
        "x = BatchNormalization()(x)\n",
        "x = LeakyReLU(alpha=0.2)(x)\n",
        "x = Conv2DTranspose(1, (3, 3), strides=2, padding=\"same\")(x)\n",
        "x = BatchNormalization()(x)\n",
        "x = Activation(\"sigmoid\", name=\"outputs\")(x)\n",
        "outputs = x"
      ],
      "execution_count": 0,
      "outputs": []
    },
    {
      "cell_type": "markdown",
      "metadata": {
        "id": "DuPI2H5NFKV0",
        "colab_type": "text"
      },
      "source": [
        "The convolutional autoencoder is now complete and we are ready to build the model using all the layers specified above."
      ]
    },
    {
      "cell_type": "code",
      "metadata": {
        "id": "4GWU5yxZ2vp5",
        "colab_type": "code",
        "colab": {
          "base_uri": "https://localhost:8080/",
          "height": 833
        },
        "outputId": "bb96f21f-8c63-4b37-f8f4-b93ebfe8bb34"
      },
      "source": [
        "autoencoder = Model(inputs, outputs)\n",
        "autoencoder.compile(optimizer=Adam(1e-3), loss='binary_crossentropy')\n",
        "autoencoder.summary()"
      ],
      "execution_count": 7,
      "outputs": [
        {
          "output_type": "stream",
          "text": [
            "Model: \"model\"\n",
            "_________________________________________________________________\n",
            "Layer (type)                 Output Shape              Param #   \n",
            "=================================================================\n",
            "inputs (InputLayer)          [(None, 28, 28, 1)]       0         \n",
            "_________________________________________________________________\n",
            "conv2d (Conv2D)              (None, 28, 28, 32)        320       \n",
            "_________________________________________________________________\n",
            "batch_normalization (BatchNo (None, 28, 28, 32)        128       \n",
            "_________________________________________________________________\n",
            "leaky_re_lu (LeakyReLU)      (None, 28, 28, 32)        0         \n",
            "_________________________________________________________________\n",
            "max_pooling2d (MaxPooling2D) (None, 14, 14, 32)        0         \n",
            "_________________________________________________________________\n",
            "conv2d_1 (Conv2D)            (None, 14, 14, 64)        18496     \n",
            "_________________________________________________________________\n",
            "batch_normalization_1 (Batch (None, 14, 14, 64)        256       \n",
            "_________________________________________________________________\n",
            "leaky_re_lu_1 (LeakyReLU)    (None, 14, 14, 64)        0         \n",
            "_________________________________________________________________\n",
            "max_pooling2d_1 (MaxPooling2 (None, 7, 7, 64)          0         \n",
            "_________________________________________________________________\n",
            "flatten (Flatten)            (None, 3136)              0         \n",
            "_________________________________________________________________\n",
            "latent (Dense)               (None, 128)               401536    \n",
            "_________________________________________________________________\n",
            "dense (Dense)                (None, 3136)              404544    \n",
            "_________________________________________________________________\n",
            "leaky_re_lu_2 (LeakyReLU)    (None, 3136)              0         \n",
            "_________________________________________________________________\n",
            "reshape (Reshape)            (None, 7, 7, 64)          0         \n",
            "_________________________________________________________________\n",
            "conv2d_transpose (Conv2DTran (None, 14, 14, 64)        36928     \n",
            "_________________________________________________________________\n",
            "batch_normalization_2 (Batch (None, 14, 14, 64)        256       \n",
            "_________________________________________________________________\n",
            "leaky_re_lu_3 (LeakyReLU)    (None, 14, 14, 64)        0         \n",
            "_________________________________________________________________\n",
            "conv2d_transpose_1 (Conv2DTr (None, 28, 28, 1)         577       \n",
            "_________________________________________________________________\n",
            "batch_normalization_3 (Batch (None, 28, 28, 1)         4         \n",
            "_________________________________________________________________\n",
            "outputs (Activation)         (None, 28, 28, 1)         0         \n",
            "=================================================================\n",
            "Total params: 863,045\n",
            "Trainable params: 862,723\n",
            "Non-trainable params: 322\n",
            "_________________________________________________________________\n"
          ],
          "name": "stdout"
        }
      ]
    },
    {
      "cell_type": "markdown",
      "metadata": {
        "id": "mxhtJ9dQFj6e",
        "colab_type": "text"
      },
      "source": [
        "Now we start training the convolutional autoencoder using the Fashion MNIST dataset."
      ]
    },
    {
      "cell_type": "code",
      "metadata": {
        "id": "dLpVKRQZ3Dne",
        "colab_type": "code",
        "colab": {
          "base_uri": "https://localhost:8080/",
          "height": 714
        },
        "outputId": "b6130c9f-0e3e-486f-ae68-f0a023341d28"
      },
      "source": [
        "autoencoder.fit(\n",
        "    x_train,\n",
        "    x_train,\n",
        "    epochs=20,\n",
        "    batch_size=256,\n",
        "    shuffle=False,\n",
        "    validation_data=(x_test, x_test)\n",
        ")"
      ],
      "execution_count": 8,
      "outputs": [
        {
          "output_type": "stream",
          "text": [
            "Epoch 1/20\n",
            "235/235 [==============================] - 124s 528ms/step - loss: 0.4641 - val_loss: 0.5113\n",
            "Epoch 2/20\n",
            "235/235 [==============================] - 124s 526ms/step - loss: 0.3890 - val_loss: 0.3935\n",
            "Epoch 3/20\n",
            "235/235 [==============================] - 123s 525ms/step - loss: 0.3511 - val_loss: 0.3519\n",
            "Epoch 4/20\n",
            "235/235 [==============================] - 123s 524ms/step - loss: 0.3266 - val_loss: 0.3251\n",
            "Epoch 5/20\n",
            "235/235 [==============================] - 123s 524ms/step - loss: 0.3098 - val_loss: 0.3085\n",
            "Epoch 6/20\n",
            "235/235 [==============================] - 123s 524ms/step - loss: 0.2978 - val_loss: 0.2996\n",
            "Epoch 7/20\n",
            "235/235 [==============================] - 123s 523ms/step - loss: 0.2889 - val_loss: 0.2884\n",
            "Epoch 8/20\n",
            "235/235 [==============================] - 123s 523ms/step - loss: 0.2821 - val_loss: 0.2828\n",
            "Epoch 9/20\n",
            "235/235 [==============================] - 123s 524ms/step - loss: 0.2768 - val_loss: 0.2796\n",
            "Epoch 10/20\n",
            "235/235 [==============================] - 124s 528ms/step - loss: 0.2727 - val_loss: 0.2743\n",
            "Epoch 11/20\n",
            "235/235 [==============================] - 123s 524ms/step - loss: 0.2694 - val_loss: 0.2719\n",
            "Epoch 12/20\n",
            "235/235 [==============================] - 123s 525ms/step - loss: 0.2667 - val_loss: 0.2677\n",
            "Epoch 13/20\n",
            "235/235 [==============================] - 121s 514ms/step - loss: 0.2644 - val_loss: 0.2673\n",
            "Epoch 14/20\n",
            "235/235 [==============================] - 121s 514ms/step - loss: 0.2626 - val_loss: 0.2636\n",
            "Epoch 15/20\n",
            "235/235 [==============================] - 126s 537ms/step - loss: 0.2611 - val_loss: 0.2623\n",
            "Epoch 16/20\n",
            "235/235 [==============================] - 125s 530ms/step - loss: 0.2598 - val_loss: 0.2622\n",
            "Epoch 17/20\n",
            "235/235 [==============================] - 125s 530ms/step - loss: 0.2587 - val_loss: 0.2609\n",
            "Epoch 18/20\n",
            "235/235 [==============================] - 125s 531ms/step - loss: 0.2578 - val_loss: 0.2603\n",
            "Epoch 19/20\n",
            "235/235 [==============================] - 125s 530ms/step - loss: 0.2571 - val_loss: 0.2595\n",
            "Epoch 20/20\n",
            "235/235 [==============================] - 129s 550ms/step - loss: 0.2563 - val_loss: 0.2586\n"
          ],
          "name": "stdout"
        },
        {
          "output_type": "execute_result",
          "data": {
            "text/plain": [
              "<tensorflow.python.keras.callbacks.History at 0x7fa4872ca668>"
            ]
          },
          "metadata": {
            "tags": []
          },
          "execution_count": 8
        }
      ]
    },
    {
      "cell_type": "markdown",
      "metadata": {
        "id": "h-CsaH5aFz0x",
        "colab_type": "text"
      },
      "source": [
        "After the training is complete, we can make predictions on the test dataset."
      ]
    },
    {
      "cell_type": "code",
      "metadata": {
        "id": "eBdoKdQ2A2BN",
        "colab_type": "code",
        "colab": {}
      },
      "source": [
        "test_pred_y = autoencoder.predict(x_test)\n"
      ],
      "execution_count": 0,
      "outputs": []
    },
    {
      "cell_type": "markdown",
      "metadata": {
        "id": "tVx6IPZMF8B7",
        "colab_type": "text"
      },
      "source": [
        "After the output is generated on the test images, we will save some of the test images and its output for the comparison."
      ]
    },
    {
      "cell_type": "code",
      "metadata": {
        "id": "SsjTGIbdA8em",
        "colab_type": "code",
        "colab": {
          "base_uri": "https://localhost:8080/",
          "height": 264
        },
        "outputId": "9ca5b17a-b206-455b-9acb-006a793be616"
      },
      "source": [
        "n = 10  ## how many digits we will display\n",
        "plt.figure(figsize=(20, 4))\n",
        "for i in range(n):\n",
        "    ## display original\n",
        "    ax = plt.subplot(2, n, i + 1)\n",
        "    ax.set_title(\"Original Image\")\n",
        "    plt.imshow(x_test[i].reshape(H, W))\n",
        "    plt.gray()\n",
        "    ax.get_xaxis().set_visible(False)\n",
        "    ax.get_yaxis().set_visible(False)\n",
        "    ## display reconstruction\n",
        "    ax = plt.subplot(2, n, i + 1 + n)\n",
        "    ax.set_title(\"Predicted Image\")\n",
        "    plt.imshow(test_pred_y[i].reshape(H, W))\n",
        "    plt.gray()\n",
        "    ax.get_xaxis().set_visible(False)\n",
        "    ax.get_yaxis().set_visible(False)\n",
        "#plt.savefig(\"results/convolutonal_autoencoder.png\")\n"
      ],
      "execution_count": 11,
      "outputs": [
        {
          "output_type": "display_data",
          "data": {
            "image/png": "[encoded data removed]",
            "text/plain": [
              "<Figure size 1440x288 with 20 Axes>"
            ]
          },
          "metadata": {
            "tags": [],
            "needs_background": "light"
          }
        }
      ]
    }
  ]
}